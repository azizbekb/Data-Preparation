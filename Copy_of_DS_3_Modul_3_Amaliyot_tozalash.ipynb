{
  "nbformat": 4,
  "nbformat_minor": 0,
  "metadata": {
    "colab": {
      "provenance": [],
      "include_colab_link": true
    },
    "kernelspec": {
      "name": "python3",
      "display_name": "Python 3"
    },
    "language_info": {
      "name": "python"
    }
  },
  "cells": [
    {
      "cell_type": "markdown",
      "metadata": {
        "id": "view-in-github",
        "colab_type": "text"
      },
      "source": [
        "<a href=\"https://colab.research.google.com/github/azizbekb/Data-Preparation/blob/main/Copy_of_DS_3_Modul_3_Amaliyot_tozalash.ipynb\" target=\"_parent\"><img src=\"https://colab.research.google.com/assets/colab-badge.svg\" alt=\"Open In Colab\"/></a>"
      ]
    },
    {
      "cell_type": "markdown",
      "metadata": {
        "id": "poH5phdmhSLa"
      },
      "source": [
        "# ![Imgur](https://i.imgur.com/5pXzCIu.png)\n",
        "\n",
        "# **DATA SCIENCE VA SUN'IY INTELLEKT PRAKTIKUM**\n",
        "\n",
        "## 3.2 Ma'lumotlarni tayyorlash\n",
        "\n",
        "# **AMALIYOT**\n",
        "## Ma'lumotlarga ishlov berish\n",
        "\n",
        "\n",
        "\n"
      ]
    },
    {
      "cell_type": "code",
      "metadata": {
        "id": "wX08M2KIMfHY"
      },
      "source": [
        "import pandas as pd\n",
        "import numpy as np"
      ],
      "execution_count": 2,
      "outputs": []
    },
    {
      "cell_type": "code",
      "metadata": {
        "id": "E-eS1Sx-MiTH",
        "colab": {
          "base_uri": "https://localhost:8080/",
          "height": 411
        },
        "outputId": "5f1ff6e7-a330-43d6-f6d9-31e28ece558a"
      },
      "source": [
        "df = pd.read_csv(\"https://raw.githubusercontent.com/mukhammad-irmatov/health_dataset/main/healt_info.csv\")\n",
        "df.head(3)"
      ],
      "execution_count": 3,
      "outputs": [
        {
          "output_type": "execute_result",
          "data": {
            "text/plain": [
              "   Sno  AGE     SEX CASTE_NAME CATEGORY_CODE CATEGORY_NAME SURGERY_CODE  \\\n",
              "0    1   56  Female         BC            M6    NEPHROLOGY         M6.5   \n",
              "1    2   37    Male         BC            M6    NEPHROLOGY         M6.5   \n",
              "2    3   50    Male         BC            M6    NEPHROLOGY         M6.5   \n",
              "\n",
              "                            SURGERY      VILLAGE MANDAL_NAME  ...  \\\n",
              "0  Maintenance Hemodialysis For Crf       Lolugu     Ponduru  ...   \n",
              "1  Maintenance Hemodialysis For Crf    Borivanka      Kaviti  ...   \n",
              "2  Maintenance Hemodialysis For Crf  Kapasakuddi      Kaviti  ...   \n",
              "\n",
              "         CLAIM_DATE CLAIM_AMOUNT                                HOSP_NAME  \\\n",
              "0  22-03-2017 20:25        11000  Rims Govt. General Hospital, Srikakulam   \n",
              "1  22-03-2017 20:25        11000  Rims Govt. General Hospital, Srikakulam   \n",
              "2  22-03-2017 20:25        11500  Rims Govt. General Hospital, Srikakulam   \n",
              "\n",
              "  HOSP_TYPE  HOSP_DISTRICT      SURGERY_DATE    DISCHARGE_DATE  \\\n",
              "0         G     Srikakulam  06-08-2013 00:00  07-09-2013 00:00   \n",
              "1         G     Srikakulam  08-08-2013 00:00  09-09-2013 00:00   \n",
              "2         G     Srikakulam  15-08-2013 00:00  18-10-2013 00:00   \n",
              "\n",
              "  Mortality Y / N MORTALITY_DATE SRC_REGISTRATION  \n",
              "0              NO            NaN                D  \n",
              "1              NO            NaN                D  \n",
              "2              NO            NaN                D  \n",
              "\n",
              "[3 rows x 23 columns]"
            ],
            "text/html": [
              "\n",
              "  <div id=\"df-b7dea082-b495-4aeb-a376-030477057aba\">\n",
              "    <div class=\"colab-df-container\">\n",
              "      <div>\n",
              "<style scoped>\n",
              "    .dataframe tbody tr th:only-of-type {\n",
              "        vertical-align: middle;\n",
              "    }\n",
              "\n",
              "    .dataframe tbody tr th {\n",
              "        vertical-align: top;\n",
              "    }\n",
              "\n",
              "    .dataframe thead th {\n",
              "        text-align: right;\n",
              "    }\n",
              "</style>\n",
              "<table border=\"1\" class=\"dataframe\">\n",
              "  <thead>\n",
              "    <tr style=\"text-align: right;\">\n",
              "      <th></th>\n",
              "      <th>Sno</th>\n",
              "      <th>AGE</th>\n",
              "      <th>SEX</th>\n",
              "      <th>CASTE_NAME</th>\n",
              "      <th>CATEGORY_CODE</th>\n",
              "      <th>CATEGORY_NAME</th>\n",
              "      <th>SURGERY_CODE</th>\n",
              "      <th>SURGERY</th>\n",
              "      <th>VILLAGE</th>\n",
              "      <th>MANDAL_NAME</th>\n",
              "      <th>...</th>\n",
              "      <th>CLAIM_DATE</th>\n",
              "      <th>CLAIM_AMOUNT</th>\n",
              "      <th>HOSP_NAME</th>\n",
              "      <th>HOSP_TYPE</th>\n",
              "      <th>HOSP_DISTRICT</th>\n",
              "      <th>SURGERY_DATE</th>\n",
              "      <th>DISCHARGE_DATE</th>\n",
              "      <th>Mortality Y / N</th>\n",
              "      <th>MORTALITY_DATE</th>\n",
              "      <th>SRC_REGISTRATION</th>\n",
              "    </tr>\n",
              "  </thead>\n",
              "  <tbody>\n",
              "    <tr>\n",
              "      <th>0</th>\n",
              "      <td>1</td>\n",
              "      <td>56</td>\n",
              "      <td>Female</td>\n",
              "      <td>BC</td>\n",
              "      <td>M6</td>\n",
              "      <td>NEPHROLOGY</td>\n",
              "      <td>M6.5</td>\n",
              "      <td>Maintenance Hemodialysis For Crf</td>\n",
              "      <td>Lolugu</td>\n",
              "      <td>Ponduru</td>\n",
              "      <td>...</td>\n",
              "      <td>22-03-2017 20:25</td>\n",
              "      <td>11000</td>\n",
              "      <td>Rims Govt. General Hospital, Srikakulam</td>\n",
              "      <td>G</td>\n",
              "      <td>Srikakulam</td>\n",
              "      <td>06-08-2013 00:00</td>\n",
              "      <td>07-09-2013 00:00</td>\n",
              "      <td>NO</td>\n",
              "      <td>NaN</td>\n",
              "      <td>D</td>\n",
              "    </tr>\n",
              "    <tr>\n",
              "      <th>1</th>\n",
              "      <td>2</td>\n",
              "      <td>37</td>\n",
              "      <td>Male</td>\n",
              "      <td>BC</td>\n",
              "      <td>M6</td>\n",
              "      <td>NEPHROLOGY</td>\n",
              "      <td>M6.5</td>\n",
              "      <td>Maintenance Hemodialysis For Crf</td>\n",
              "      <td>Borivanka</td>\n",
              "      <td>Kaviti</td>\n",
              "      <td>...</td>\n",
              "      <td>22-03-2017 20:25</td>\n",
              "      <td>11000</td>\n",
              "      <td>Rims Govt. General Hospital, Srikakulam</td>\n",
              "      <td>G</td>\n",
              "      <td>Srikakulam</td>\n",
              "      <td>08-08-2013 00:00</td>\n",
              "      <td>09-09-2013 00:00</td>\n",
              "      <td>NO</td>\n",
              "      <td>NaN</td>\n",
              "      <td>D</td>\n",
              "    </tr>\n",
              "    <tr>\n",
              "      <th>2</th>\n",
              "      <td>3</td>\n",
              "      <td>50</td>\n",
              "      <td>Male</td>\n",
              "      <td>BC</td>\n",
              "      <td>M6</td>\n",
              "      <td>NEPHROLOGY</td>\n",
              "      <td>M6.5</td>\n",
              "      <td>Maintenance Hemodialysis For Crf</td>\n",
              "      <td>Kapasakuddi</td>\n",
              "      <td>Kaviti</td>\n",
              "      <td>...</td>\n",
              "      <td>22-03-2017 20:25</td>\n",
              "      <td>11500</td>\n",
              "      <td>Rims Govt. General Hospital, Srikakulam</td>\n",
              "      <td>G</td>\n",
              "      <td>Srikakulam</td>\n",
              "      <td>15-08-2013 00:00</td>\n",
              "      <td>18-10-2013 00:00</td>\n",
              "      <td>NO</td>\n",
              "      <td>NaN</td>\n",
              "      <td>D</td>\n",
              "    </tr>\n",
              "  </tbody>\n",
              "</table>\n",
              "<p>3 rows × 23 columns</p>\n",
              "</div>\n",
              "      <button class=\"colab-df-convert\" onclick=\"convertToInteractive('df-b7dea082-b495-4aeb-a376-030477057aba')\"\n",
              "              title=\"Convert this dataframe to an interactive table.\"\n",
              "              style=\"display:none;\">\n",
              "        \n",
              "  <svg xmlns=\"http://www.w3.org/2000/svg\" height=\"24px\"viewBox=\"0 0 24 24\"\n",
              "       width=\"24px\">\n",
              "    <path d=\"M0 0h24v24H0V0z\" fill=\"none\"/>\n",
              "    <path d=\"M18.56 5.44l.94 2.06.94-2.06 2.06-.94-2.06-.94-.94-2.06-.94 2.06-2.06.94zm-11 1L8.5 8.5l.94-2.06 2.06-.94-2.06-.94L8.5 2.5l-.94 2.06-2.06.94zm10 10l.94 2.06.94-2.06 2.06-.94-2.06-.94-.94-2.06-.94 2.06-2.06.94z\"/><path d=\"M17.41 7.96l-1.37-1.37c-.4-.4-.92-.59-1.43-.59-.52 0-1.04.2-1.43.59L10.3 9.45l-7.72 7.72c-.78.78-.78 2.05 0 2.83L4 21.41c.39.39.9.59 1.41.59.51 0 1.02-.2 1.41-.59l7.78-7.78 2.81-2.81c.8-.78.8-2.07 0-2.86zM5.41 20L4 18.59l7.72-7.72 1.47 1.35L5.41 20z\"/>\n",
              "  </svg>\n",
              "      </button>\n",
              "      \n",
              "  <style>\n",
              "    .colab-df-container {\n",
              "      display:flex;\n",
              "      flex-wrap:wrap;\n",
              "      gap: 12px;\n",
              "    }\n",
              "\n",
              "    .colab-df-convert {\n",
              "      background-color: #E8F0FE;\n",
              "      border: none;\n",
              "      border-radius: 50%;\n",
              "      cursor: pointer;\n",
              "      display: none;\n",
              "      fill: #1967D2;\n",
              "      height: 32px;\n",
              "      padding: 0 0 0 0;\n",
              "      width: 32px;\n",
              "    }\n",
              "\n",
              "    .colab-df-convert:hover {\n",
              "      background-color: #E2EBFA;\n",
              "      box-shadow: 0px 1px 2px rgba(60, 64, 67, 0.3), 0px 1px 3px 1px rgba(60, 64, 67, 0.15);\n",
              "      fill: #174EA6;\n",
              "    }\n",
              "\n",
              "    [theme=dark] .colab-df-convert {\n",
              "      background-color: #3B4455;\n",
              "      fill: #D2E3FC;\n",
              "    }\n",
              "\n",
              "    [theme=dark] .colab-df-convert:hover {\n",
              "      background-color: #434B5C;\n",
              "      box-shadow: 0px 1px 3px 1px rgba(0, 0, 0, 0.15);\n",
              "      filter: drop-shadow(0px 1px 2px rgba(0, 0, 0, 0.3));\n",
              "      fill: #FFFFFF;\n",
              "    }\n",
              "  </style>\n",
              "\n",
              "      <script>\n",
              "        const buttonEl =\n",
              "          document.querySelector('#df-b7dea082-b495-4aeb-a376-030477057aba button.colab-df-convert');\n",
              "        buttonEl.style.display =\n",
              "          google.colab.kernel.accessAllowed ? 'block' : 'none';\n",
              "\n",
              "        async function convertToInteractive(key) {\n",
              "          const element = document.querySelector('#df-b7dea082-b495-4aeb-a376-030477057aba');\n",
              "          const dataTable =\n",
              "            await google.colab.kernel.invokeFunction('convertToInteractive',\n",
              "                                                     [key], {});\n",
              "          if (!dataTable) return;\n",
              "\n",
              "          const docLinkHtml = 'Like what you see? Visit the ' +\n",
              "            '<a target=\"_blank\" href=https://colab.research.google.com/notebooks/data_table.ipynb>data table notebook</a>'\n",
              "            + ' to learn more about interactive tables.';\n",
              "          element.innerHTML = '';\n",
              "          dataTable['output_type'] = 'display_data';\n",
              "          await google.colab.output.renderOutput(dataTable, element);\n",
              "          const docLink = document.createElement('div');\n",
              "          docLink.innerHTML = docLinkHtml;\n",
              "          element.appendChild(docLink);\n",
              "        }\n",
              "      </script>\n",
              "    </div>\n",
              "  </div>\n",
              "  "
            ]
          },
          "metadata": {},
          "execution_count": 3
        }
      ]
    },
    {
      "cell_type": "markdown",
      "metadata": {
        "id": "tsm8uZ0JMr5m"
      },
      "source": [
        "Bu dataset sug'urta kompaniyasining real ma'lumotlardan tuzilgan. Bu datasetda 480000 qator sug'urta ma'lumotlar tashkil topgan.\n",
        "Quyida datasetning ba'zi ustunlari haqida qisqacha ma'lumot\n",
        "\n",
        "*   Sno = seriya raqami \n",
        "*   AGE = yoshi\n",
        "*   SEX = jinsi (female = ayol, male = erkak)\n",
        "*   CASTE_NAME = kasta nomi (Hindistonda har bir inson ma'lum bir kastaga oid bo'ladi)\n",
        "*   CATEGORY_CODE = kategoriya kodi\n",
        "*   CATEGORY_Name = kategoriya nomi\n",
        "*   SURGERY_CODE = operatsiya kodi\n",
        "*   Mandal_Name = mandal nomlanishi ya'ni familiyasi desak ham bo'ladi\n",
        "*   Mortality Y/N = vafot etgan yoki vafot etmaganligi\n",
        "*   MORTALITY_DATE = qachon vafot etganligi\n",
        "\n",
        "\n",
        "\n"
      ]
    },
    {
      "cell_type": "markdown",
      "metadata": {
        "id": "FNLOb9yhxI0b"
      },
      "source": [
        "### **1-mashq**. Datasetdagi barcha takrorlangan qatorlar sonini toping"
      ]
    },
    {
      "cell_type": "code",
      "metadata": {
        "id": "o64K3q-UBNAm",
        "outputId": "009bc8c9-71c4-42aa-fdf9-14618fb9a5e9",
        "colab": {
          "base_uri": "https://localhost:8080/"
        }
      },
      "source": [
        "# Javobni shuyerga yozing\n",
        "df.duplicated().sum()"
      ],
      "execution_count": 4,
      "outputs": [
        {
          "output_type": "execute_result",
          "data": {
            "text/plain": [
              "0"
            ]
          },
          "metadata": {},
          "execution_count": 4
        }
      ]
    },
    {
      "cell_type": "markdown",
      "metadata": {
        "id": "9GJiUd445Kr1"
      },
      "source": [
        "#### **2-mashq**. Datasetdagi quyidagi ustunlar o'chirib yuborilsin:<br>\n",
        "*   Sno\n",
        "*   CATEGORY_CODE\n",
        "*   SURGERY_CODE\n",
        "*   MANDAL_NAME\n",
        "*   DISTRICT_NAME\n",
        "*   HOSP_DISTRICT\n",
        "<BR>\n"
      ]
    },
    {
      "cell_type": "code",
      "metadata": {
        "id": "W8LCqh3466n-",
        "outputId": "1f23d091-28a6-49a6-e7af-ddcf95b83240",
        "colab": {
          "base_uri": "https://localhost:8080/",
          "height": 361
        }
      },
      "source": [
        "# Javobni shuyerga yozing\n",
        "df.drop(['Sno', 'CATEGORY_CODE', 'SURGERY_CODE', 'MANDAL_NAME', 'DISTRICT_NAME', 'HOSP_DISTRICT'], axis=1, inplace=True)\n",
        "df.head(3)"
      ],
      "execution_count": 5,
      "outputs": [
        {
          "output_type": "execute_result",
          "data": {
            "text/plain": [
              "   AGE     SEX CASTE_NAME CATEGORY_NAME                           SURGERY  \\\n",
              "0   56  Female         BC    NEPHROLOGY  Maintenance Hemodialysis For Crf   \n",
              "1   37    Male         BC    NEPHROLOGY  Maintenance Hemodialysis For Crf   \n",
              "2   50    Male         BC    NEPHROLOGY  Maintenance Hemodialysis For Crf   \n",
              "\n",
              "       VILLAGE      PREAUTH_DATE  PREAUTH_AMT        CLAIM_DATE  CLAIM_AMOUNT  \\\n",
              "0       Lolugu  03-08-2013 20:38        12500  22-03-2017 20:25         11000   \n",
              "1    Borivanka  06-08-2013 07:26        12500  22-03-2017 20:25         11000   \n",
              "2  Kapasakuddi  09-08-2013 18:30        12500  22-03-2017 20:25         11500   \n",
              "\n",
              "                                 HOSP_NAME HOSP_TYPE      SURGERY_DATE  \\\n",
              "0  Rims Govt. General Hospital, Srikakulam         G  06-08-2013 00:00   \n",
              "1  Rims Govt. General Hospital, Srikakulam         G  08-08-2013 00:00   \n",
              "2  Rims Govt. General Hospital, Srikakulam         G  15-08-2013 00:00   \n",
              "\n",
              "     DISCHARGE_DATE Mortality Y / N MORTALITY_DATE SRC_REGISTRATION  \n",
              "0  07-09-2013 00:00              NO            NaN                D  \n",
              "1  09-09-2013 00:00              NO            NaN                D  \n",
              "2  18-10-2013 00:00              NO            NaN                D  "
            ],
            "text/html": [
              "\n",
              "  <div id=\"df-87e3822f-fc3e-4738-8908-285708dc0e10\">\n",
              "    <div class=\"colab-df-container\">\n",
              "      <div>\n",
              "<style scoped>\n",
              "    .dataframe tbody tr th:only-of-type {\n",
              "        vertical-align: middle;\n",
              "    }\n",
              "\n",
              "    .dataframe tbody tr th {\n",
              "        vertical-align: top;\n",
              "    }\n",
              "\n",
              "    .dataframe thead th {\n",
              "        text-align: right;\n",
              "    }\n",
              "</style>\n",
              "<table border=\"1\" class=\"dataframe\">\n",
              "  <thead>\n",
              "    <tr style=\"text-align: right;\">\n",
              "      <th></th>\n",
              "      <th>AGE</th>\n",
              "      <th>SEX</th>\n",
              "      <th>CASTE_NAME</th>\n",
              "      <th>CATEGORY_NAME</th>\n",
              "      <th>SURGERY</th>\n",
              "      <th>VILLAGE</th>\n",
              "      <th>PREAUTH_DATE</th>\n",
              "      <th>PREAUTH_AMT</th>\n",
              "      <th>CLAIM_DATE</th>\n",
              "      <th>CLAIM_AMOUNT</th>\n",
              "      <th>HOSP_NAME</th>\n",
              "      <th>HOSP_TYPE</th>\n",
              "      <th>SURGERY_DATE</th>\n",
              "      <th>DISCHARGE_DATE</th>\n",
              "      <th>Mortality Y / N</th>\n",
              "      <th>MORTALITY_DATE</th>\n",
              "      <th>SRC_REGISTRATION</th>\n",
              "    </tr>\n",
              "  </thead>\n",
              "  <tbody>\n",
              "    <tr>\n",
              "      <th>0</th>\n",
              "      <td>56</td>\n",
              "      <td>Female</td>\n",
              "      <td>BC</td>\n",
              "      <td>NEPHROLOGY</td>\n",
              "      <td>Maintenance Hemodialysis For Crf</td>\n",
              "      <td>Lolugu</td>\n",
              "      <td>03-08-2013 20:38</td>\n",
              "      <td>12500</td>\n",
              "      <td>22-03-2017 20:25</td>\n",
              "      <td>11000</td>\n",
              "      <td>Rims Govt. General Hospital, Srikakulam</td>\n",
              "      <td>G</td>\n",
              "      <td>06-08-2013 00:00</td>\n",
              "      <td>07-09-2013 00:00</td>\n",
              "      <td>NO</td>\n",
              "      <td>NaN</td>\n",
              "      <td>D</td>\n",
              "    </tr>\n",
              "    <tr>\n",
              "      <th>1</th>\n",
              "      <td>37</td>\n",
              "      <td>Male</td>\n",
              "      <td>BC</td>\n",
              "      <td>NEPHROLOGY</td>\n",
              "      <td>Maintenance Hemodialysis For Crf</td>\n",
              "      <td>Borivanka</td>\n",
              "      <td>06-08-2013 07:26</td>\n",
              "      <td>12500</td>\n",
              "      <td>22-03-2017 20:25</td>\n",
              "      <td>11000</td>\n",
              "      <td>Rims Govt. General Hospital, Srikakulam</td>\n",
              "      <td>G</td>\n",
              "      <td>08-08-2013 00:00</td>\n",
              "      <td>09-09-2013 00:00</td>\n",
              "      <td>NO</td>\n",
              "      <td>NaN</td>\n",
              "      <td>D</td>\n",
              "    </tr>\n",
              "    <tr>\n",
              "      <th>2</th>\n",
              "      <td>50</td>\n",
              "      <td>Male</td>\n",
              "      <td>BC</td>\n",
              "      <td>NEPHROLOGY</td>\n",
              "      <td>Maintenance Hemodialysis For Crf</td>\n",
              "      <td>Kapasakuddi</td>\n",
              "      <td>09-08-2013 18:30</td>\n",
              "      <td>12500</td>\n",
              "      <td>22-03-2017 20:25</td>\n",
              "      <td>11500</td>\n",
              "      <td>Rims Govt. General Hospital, Srikakulam</td>\n",
              "      <td>G</td>\n",
              "      <td>15-08-2013 00:00</td>\n",
              "      <td>18-10-2013 00:00</td>\n",
              "      <td>NO</td>\n",
              "      <td>NaN</td>\n",
              "      <td>D</td>\n",
              "    </tr>\n",
              "  </tbody>\n",
              "</table>\n",
              "</div>\n",
              "      <button class=\"colab-df-convert\" onclick=\"convertToInteractive('df-87e3822f-fc3e-4738-8908-285708dc0e10')\"\n",
              "              title=\"Convert this dataframe to an interactive table.\"\n",
              "              style=\"display:none;\">\n",
              "        \n",
              "  <svg xmlns=\"http://www.w3.org/2000/svg\" height=\"24px\"viewBox=\"0 0 24 24\"\n",
              "       width=\"24px\">\n",
              "    <path d=\"M0 0h24v24H0V0z\" fill=\"none\"/>\n",
              "    <path d=\"M18.56 5.44l.94 2.06.94-2.06 2.06-.94-2.06-.94-.94-2.06-.94 2.06-2.06.94zm-11 1L8.5 8.5l.94-2.06 2.06-.94-2.06-.94L8.5 2.5l-.94 2.06-2.06.94zm10 10l.94 2.06.94-2.06 2.06-.94-2.06-.94-.94-2.06-.94 2.06-2.06.94z\"/><path d=\"M17.41 7.96l-1.37-1.37c-.4-.4-.92-.59-1.43-.59-.52 0-1.04.2-1.43.59L10.3 9.45l-7.72 7.72c-.78.78-.78 2.05 0 2.83L4 21.41c.39.39.9.59 1.41.59.51 0 1.02-.2 1.41-.59l7.78-7.78 2.81-2.81c.8-.78.8-2.07 0-2.86zM5.41 20L4 18.59l7.72-7.72 1.47 1.35L5.41 20z\"/>\n",
              "  </svg>\n",
              "      </button>\n",
              "      \n",
              "  <style>\n",
              "    .colab-df-container {\n",
              "      display:flex;\n",
              "      flex-wrap:wrap;\n",
              "      gap: 12px;\n",
              "    }\n",
              "\n",
              "    .colab-df-convert {\n",
              "      background-color: #E8F0FE;\n",
              "      border: none;\n",
              "      border-radius: 50%;\n",
              "      cursor: pointer;\n",
              "      display: none;\n",
              "      fill: #1967D2;\n",
              "      height: 32px;\n",
              "      padding: 0 0 0 0;\n",
              "      width: 32px;\n",
              "    }\n",
              "\n",
              "    .colab-df-convert:hover {\n",
              "      background-color: #E2EBFA;\n",
              "      box-shadow: 0px 1px 2px rgba(60, 64, 67, 0.3), 0px 1px 3px 1px rgba(60, 64, 67, 0.15);\n",
              "      fill: #174EA6;\n",
              "    }\n",
              "\n",
              "    [theme=dark] .colab-df-convert {\n",
              "      background-color: #3B4455;\n",
              "      fill: #D2E3FC;\n",
              "    }\n",
              "\n",
              "    [theme=dark] .colab-df-convert:hover {\n",
              "      background-color: #434B5C;\n",
              "      box-shadow: 0px 1px 3px 1px rgba(0, 0, 0, 0.15);\n",
              "      filter: drop-shadow(0px 1px 2px rgba(0, 0, 0, 0.3));\n",
              "      fill: #FFFFFF;\n",
              "    }\n",
              "  </style>\n",
              "\n",
              "      <script>\n",
              "        const buttonEl =\n",
              "          document.querySelector('#df-87e3822f-fc3e-4738-8908-285708dc0e10 button.colab-df-convert');\n",
              "        buttonEl.style.display =\n",
              "          google.colab.kernel.accessAllowed ? 'block' : 'none';\n",
              "\n",
              "        async function convertToInteractive(key) {\n",
              "          const element = document.querySelector('#df-87e3822f-fc3e-4738-8908-285708dc0e10');\n",
              "          const dataTable =\n",
              "            await google.colab.kernel.invokeFunction('convertToInteractive',\n",
              "                                                     [key], {});\n",
              "          if (!dataTable) return;\n",
              "\n",
              "          const docLinkHtml = 'Like what you see? Visit the ' +\n",
              "            '<a target=\"_blank\" href=https://colab.research.google.com/notebooks/data_table.ipynb>data table notebook</a>'\n",
              "            + ' to learn more about interactive tables.';\n",
              "          element.innerHTML = '';\n",
              "          dataTable['output_type'] = 'display_data';\n",
              "          await google.colab.output.renderOutput(dataTable, element);\n",
              "          const docLink = document.createElement('div');\n",
              "          docLink.innerHTML = docLinkHtml;\n",
              "          element.appendChild(docLink);\n",
              "        }\n",
              "      </script>\n",
              "    </div>\n",
              "  </div>\n",
              "  "
            ]
          },
          "metadata": {},
          "execution_count": 5
        }
      ]
    },
    {
      "cell_type": "markdown",
      "metadata": {
        "id": "wVuuU-XZO-0Y"
      },
      "source": [
        "#### **3-mashq**. Datasetdagi sex(jinsi) nomli qatordagi qiymatlarni unique funksiyasi orqali tekshiring.\n",
        "\n",
        "\n"
      ]
    },
    {
      "cell_type": "code",
      "metadata": {
        "id": "i9e_7Icu0Xms",
        "outputId": "959e4e9b-0f74-4796-9515-c2336ab32b34",
        "colab": {
          "base_uri": "https://localhost:8080/"
        }
      },
      "source": [
        "# Javobni shuyerga yozing\n",
        "df['SEX'].unique()"
      ],
      "execution_count": 6,
      "outputs": [
        {
          "output_type": "execute_result",
          "data": {
            "text/plain": [
              "array(['Female', 'Male', 'Male(Child)', 'Female(Child)', 'FEMALE'],\n",
              "      dtype=object)"
            ]
          },
          "metadata": {},
          "execution_count": 6
        }
      ]
    },
    {
      "cell_type": "markdown",
      "metadata": {
        "id": "nfwZ0uQo1xXm"
      },
      "source": [
        "#### **4-mashq**. Datasetdagi sex(jinsi) nomli qatordagi qiymatlarni **Erkak** va **Ayol** ga o'zgartiring:\n",
        "O'zgartirish quyidagicha bo'lsin:\n",
        "\n",
        "\n",
        "*   Male -> Erkak\n",
        "*   Male(child) -> Erkak\n",
        "*   Female - > Ayol\n",
        "*   Female(child) - Ayol\n",
        "*   MALE -> Erkak\n",
        "*   FEMALE -> Ayol\n",
        "\n",
        "\n",
        "\n"
      ]
    },
    {
      "cell_type": "code",
      "metadata": {
        "id": "54IqaOmz159z",
        "colab": {
          "base_uri": "https://localhost:8080/"
        },
        "outputId": "b7aea5e9-a6a8-412f-b968-0023a786c680"
      },
      "source": [
        "# Javobni shuyerga yozing\n",
        "dict={'Male':'Erkak', 'Male(Child)':'Erkak', 'Female':'Ayol', 'Female(Child)':'Ayol', 'FEMALE':'Ayol'}\n",
        "df['SEX']=df['SEX'].map(dict)\n",
        "df['SEX']"
      ],
      "execution_count": 7,
      "outputs": [
        {
          "output_type": "execute_result",
          "data": {
            "text/plain": [
              "0          Ayol\n",
              "1         Erkak\n",
              "2         Erkak\n",
              "3         Erkak\n",
              "4         Erkak\n",
              "          ...  \n",
              "335389    Erkak\n",
              "335390     Ayol\n",
              "335391     Ayol\n",
              "335392    Erkak\n",
              "335393     Ayol\n",
              "Name: SEX, Length: 335394, dtype: object"
            ]
          },
          "metadata": {},
          "execution_count": 7
        }
      ]
    },
    {
      "cell_type": "markdown",
      "metadata": {
        "id": "t_KWHWqj3D38"
      },
      "source": [
        "#### **5-mashq**. Endi xuddi shu SEX columndagi ma'lumotlarni raqamlarga o'zgartiring: Erkaklarni 1 raqamiga, Ayollarni 0 raqamiga o'zgartiring.\n",
        "*   Erkak -> 1\n",
        "*   Ayol -> 0"
      ]
    },
    {
      "cell_type": "code",
      "metadata": {
        "id": "CU3ygcnh3LAd",
        "outputId": "de2bd581-6d6a-43b0-d1cf-d7a0f51f5a38",
        "colab": {
          "base_uri": "https://localhost:8080/",
          "height": 528
        }
      },
      "source": [
        "# Javobni shuyerga yozing\n",
        "dict2={'Erkak':1, 'Ayol':0}\n",
        "df['SEX']=df['SEX'].map(dict2)\n",
        "df.head()"
      ],
      "execution_count": 8,
      "outputs": [
        {
          "output_type": "execute_result",
          "data": {
            "text/plain": [
              "   AGE  SEX CASTE_NAME CATEGORY_NAME                           SURGERY  \\\n",
              "0   56    0         BC    NEPHROLOGY  Maintenance Hemodialysis For Crf   \n",
              "1   37    1         BC    NEPHROLOGY  Maintenance Hemodialysis For Crf   \n",
              "2   50    1         BC    NEPHROLOGY  Maintenance Hemodialysis For Crf   \n",
              "3   45    1         BC    NEPHROLOGY  Maintenance Hemodialysis For Crf   \n",
              "4   54    1         BC    NEPHROLOGY  Maintenance Hemodialysis For Crf   \n",
              "\n",
              "         VILLAGE      PREAUTH_DATE  PREAUTH_AMT        CLAIM_DATE  \\\n",
              "0         Lolugu  03-08-2013 20:38        12500  22-03-2017 20:25   \n",
              "1      Borivanka  06-08-2013 07:26        12500  22-03-2017 20:25   \n",
              "2    Kapasakuddi  09-08-2013 18:30        12500  22-03-2017 20:25   \n",
              "3    Telikipenta  24-08-2013 19:37        12500  22-03-2017 20:25   \n",
              "4  Thandemvalasa  28-08-2013 17:03        12500  22-03-2017 20:25   \n",
              "\n",
              "   CLAIM_AMOUNT                                HOSP_NAME HOSP_TYPE  \\\n",
              "0         11000  Rims Govt. General Hospital, Srikakulam         G   \n",
              "1         11000  Rims Govt. General Hospital, Srikakulam         G   \n",
              "2         11500  Rims Govt. General Hospital, Srikakulam         G   \n",
              "3         11000  Rims Govt. General Hospital, Srikakulam         G   \n",
              "4         11000  Rims Govt. General Hospital, Srikakulam         G   \n",
              "\n",
              "       SURGERY_DATE    DISCHARGE_DATE Mortality Y / N MORTALITY_DATE  \\\n",
              "0  06-08-2013 00:00  07-09-2013 00:00              NO            NaN   \n",
              "1  08-08-2013 00:00  09-09-2013 00:00              NO            NaN   \n",
              "2  15-08-2013 00:00  18-10-2013 00:00              NO            NaN   \n",
              "3  24-08-2013 00:00  27-09-2013 00:00              NO            NaN   \n",
              "4  31-08-2013 00:00  02-10-2013 00:00              NO            NaN   \n",
              "\n",
              "  SRC_REGISTRATION  \n",
              "0                D  \n",
              "1                D  \n",
              "2                D  \n",
              "3                D  \n",
              "4                D  "
            ],
            "text/html": [
              "\n",
              "  <div id=\"df-a65147c6-afd8-45e0-887a-d12b0d646e32\">\n",
              "    <div class=\"colab-df-container\">\n",
              "      <div>\n",
              "<style scoped>\n",
              "    .dataframe tbody tr th:only-of-type {\n",
              "        vertical-align: middle;\n",
              "    }\n",
              "\n",
              "    .dataframe tbody tr th {\n",
              "        vertical-align: top;\n",
              "    }\n",
              "\n",
              "    .dataframe thead th {\n",
              "        text-align: right;\n",
              "    }\n",
              "</style>\n",
              "<table border=\"1\" class=\"dataframe\">\n",
              "  <thead>\n",
              "    <tr style=\"text-align: right;\">\n",
              "      <th></th>\n",
              "      <th>AGE</th>\n",
              "      <th>SEX</th>\n",
              "      <th>CASTE_NAME</th>\n",
              "      <th>CATEGORY_NAME</th>\n",
              "      <th>SURGERY</th>\n",
              "      <th>VILLAGE</th>\n",
              "      <th>PREAUTH_DATE</th>\n",
              "      <th>PREAUTH_AMT</th>\n",
              "      <th>CLAIM_DATE</th>\n",
              "      <th>CLAIM_AMOUNT</th>\n",
              "      <th>HOSP_NAME</th>\n",
              "      <th>HOSP_TYPE</th>\n",
              "      <th>SURGERY_DATE</th>\n",
              "      <th>DISCHARGE_DATE</th>\n",
              "      <th>Mortality Y / N</th>\n",
              "      <th>MORTALITY_DATE</th>\n",
              "      <th>SRC_REGISTRATION</th>\n",
              "    </tr>\n",
              "  </thead>\n",
              "  <tbody>\n",
              "    <tr>\n",
              "      <th>0</th>\n",
              "      <td>56</td>\n",
              "      <td>0</td>\n",
              "      <td>BC</td>\n",
              "      <td>NEPHROLOGY</td>\n",
              "      <td>Maintenance Hemodialysis For Crf</td>\n",
              "      <td>Lolugu</td>\n",
              "      <td>03-08-2013 20:38</td>\n",
              "      <td>12500</td>\n",
              "      <td>22-03-2017 20:25</td>\n",
              "      <td>11000</td>\n",
              "      <td>Rims Govt. General Hospital, Srikakulam</td>\n",
              "      <td>G</td>\n",
              "      <td>06-08-2013 00:00</td>\n",
              "      <td>07-09-2013 00:00</td>\n",
              "      <td>NO</td>\n",
              "      <td>NaN</td>\n",
              "      <td>D</td>\n",
              "    </tr>\n",
              "    <tr>\n",
              "      <th>1</th>\n",
              "      <td>37</td>\n",
              "      <td>1</td>\n",
              "      <td>BC</td>\n",
              "      <td>NEPHROLOGY</td>\n",
              "      <td>Maintenance Hemodialysis For Crf</td>\n",
              "      <td>Borivanka</td>\n",
              "      <td>06-08-2013 07:26</td>\n",
              "      <td>12500</td>\n",
              "      <td>22-03-2017 20:25</td>\n",
              "      <td>11000</td>\n",
              "      <td>Rims Govt. General Hospital, Srikakulam</td>\n",
              "      <td>G</td>\n",
              "      <td>08-08-2013 00:00</td>\n",
              "      <td>09-09-2013 00:00</td>\n",
              "      <td>NO</td>\n",
              "      <td>NaN</td>\n",
              "      <td>D</td>\n",
              "    </tr>\n",
              "    <tr>\n",
              "      <th>2</th>\n",
              "      <td>50</td>\n",
              "      <td>1</td>\n",
              "      <td>BC</td>\n",
              "      <td>NEPHROLOGY</td>\n",
              "      <td>Maintenance Hemodialysis For Crf</td>\n",
              "      <td>Kapasakuddi</td>\n",
              "      <td>09-08-2013 18:30</td>\n",
              "      <td>12500</td>\n",
              "      <td>22-03-2017 20:25</td>\n",
              "      <td>11500</td>\n",
              "      <td>Rims Govt. General Hospital, Srikakulam</td>\n",
              "      <td>G</td>\n",
              "      <td>15-08-2013 00:00</td>\n",
              "      <td>18-10-2013 00:00</td>\n",
              "      <td>NO</td>\n",
              "      <td>NaN</td>\n",
              "      <td>D</td>\n",
              "    </tr>\n",
              "    <tr>\n",
              "      <th>3</th>\n",
              "      <td>45</td>\n",
              "      <td>1</td>\n",
              "      <td>BC</td>\n",
              "      <td>NEPHROLOGY</td>\n",
              "      <td>Maintenance Hemodialysis For Crf</td>\n",
              "      <td>Telikipenta</td>\n",
              "      <td>24-08-2013 19:37</td>\n",
              "      <td>12500</td>\n",
              "      <td>22-03-2017 20:25</td>\n",
              "      <td>11000</td>\n",
              "      <td>Rims Govt. General Hospital, Srikakulam</td>\n",
              "      <td>G</td>\n",
              "      <td>24-08-2013 00:00</td>\n",
              "      <td>27-09-2013 00:00</td>\n",
              "      <td>NO</td>\n",
              "      <td>NaN</td>\n",
              "      <td>D</td>\n",
              "    </tr>\n",
              "    <tr>\n",
              "      <th>4</th>\n",
              "      <td>54</td>\n",
              "      <td>1</td>\n",
              "      <td>BC</td>\n",
              "      <td>NEPHROLOGY</td>\n",
              "      <td>Maintenance Hemodialysis For Crf</td>\n",
              "      <td>Thandemvalasa</td>\n",
              "      <td>28-08-2013 17:03</td>\n",
              "      <td>12500</td>\n",
              "      <td>22-03-2017 20:25</td>\n",
              "      <td>11000</td>\n",
              "      <td>Rims Govt. General Hospital, Srikakulam</td>\n",
              "      <td>G</td>\n",
              "      <td>31-08-2013 00:00</td>\n",
              "      <td>02-10-2013 00:00</td>\n",
              "      <td>NO</td>\n",
              "      <td>NaN</td>\n",
              "      <td>D</td>\n",
              "    </tr>\n",
              "  </tbody>\n",
              "</table>\n",
              "</div>\n",
              "      <button class=\"colab-df-convert\" onclick=\"convertToInteractive('df-a65147c6-afd8-45e0-887a-d12b0d646e32')\"\n",
              "              title=\"Convert this dataframe to an interactive table.\"\n",
              "              style=\"display:none;\">\n",
              "        \n",
              "  <svg xmlns=\"http://www.w3.org/2000/svg\" height=\"24px\"viewBox=\"0 0 24 24\"\n",
              "       width=\"24px\">\n",
              "    <path d=\"M0 0h24v24H0V0z\" fill=\"none\"/>\n",
              "    <path d=\"M18.56 5.44l.94 2.06.94-2.06 2.06-.94-2.06-.94-.94-2.06-.94 2.06-2.06.94zm-11 1L8.5 8.5l.94-2.06 2.06-.94-2.06-.94L8.5 2.5l-.94 2.06-2.06.94zm10 10l.94 2.06.94-2.06 2.06-.94-2.06-.94-.94-2.06-.94 2.06-2.06.94z\"/><path d=\"M17.41 7.96l-1.37-1.37c-.4-.4-.92-.59-1.43-.59-.52 0-1.04.2-1.43.59L10.3 9.45l-7.72 7.72c-.78.78-.78 2.05 0 2.83L4 21.41c.39.39.9.59 1.41.59.51 0 1.02-.2 1.41-.59l7.78-7.78 2.81-2.81c.8-.78.8-2.07 0-2.86zM5.41 20L4 18.59l7.72-7.72 1.47 1.35L5.41 20z\"/>\n",
              "  </svg>\n",
              "      </button>\n",
              "      \n",
              "  <style>\n",
              "    .colab-df-container {\n",
              "      display:flex;\n",
              "      flex-wrap:wrap;\n",
              "      gap: 12px;\n",
              "    }\n",
              "\n",
              "    .colab-df-convert {\n",
              "      background-color: #E8F0FE;\n",
              "      border: none;\n",
              "      border-radius: 50%;\n",
              "      cursor: pointer;\n",
              "      display: none;\n",
              "      fill: #1967D2;\n",
              "      height: 32px;\n",
              "      padding: 0 0 0 0;\n",
              "      width: 32px;\n",
              "    }\n",
              "\n",
              "    .colab-df-convert:hover {\n",
              "      background-color: #E2EBFA;\n",
              "      box-shadow: 0px 1px 2px rgba(60, 64, 67, 0.3), 0px 1px 3px 1px rgba(60, 64, 67, 0.15);\n",
              "      fill: #174EA6;\n",
              "    }\n",
              "\n",
              "    [theme=dark] .colab-df-convert {\n",
              "      background-color: #3B4455;\n",
              "      fill: #D2E3FC;\n",
              "    }\n",
              "\n",
              "    [theme=dark] .colab-df-convert:hover {\n",
              "      background-color: #434B5C;\n",
              "      box-shadow: 0px 1px 3px 1px rgba(0, 0, 0, 0.15);\n",
              "      filter: drop-shadow(0px 1px 2px rgba(0, 0, 0, 0.3));\n",
              "      fill: #FFFFFF;\n",
              "    }\n",
              "  </style>\n",
              "\n",
              "      <script>\n",
              "        const buttonEl =\n",
              "          document.querySelector('#df-a65147c6-afd8-45e0-887a-d12b0d646e32 button.colab-df-convert');\n",
              "        buttonEl.style.display =\n",
              "          google.colab.kernel.accessAllowed ? 'block' : 'none';\n",
              "\n",
              "        async function convertToInteractive(key) {\n",
              "          const element = document.querySelector('#df-a65147c6-afd8-45e0-887a-d12b0d646e32');\n",
              "          const dataTable =\n",
              "            await google.colab.kernel.invokeFunction('convertToInteractive',\n",
              "                                                     [key], {});\n",
              "          if (!dataTable) return;\n",
              "\n",
              "          const docLinkHtml = 'Like what you see? Visit the ' +\n",
              "            '<a target=\"_blank\" href=https://colab.research.google.com/notebooks/data_table.ipynb>data table notebook</a>'\n",
              "            + ' to learn more about interactive tables.';\n",
              "          element.innerHTML = '';\n",
              "          dataTable['output_type'] = 'display_data';\n",
              "          await google.colab.output.renderOutput(dataTable, element);\n",
              "          const docLink = document.createElement('div');\n",
              "          docLink.innerHTML = docLinkHtml;\n",
              "          element.appendChild(docLink);\n",
              "        }\n",
              "      </script>\n",
              "    </div>\n",
              "  </div>\n",
              "  "
            ]
          },
          "metadata": {},
          "execution_count": 8
        }
      ]
    },
    {
      "cell_type": "markdown",
      "metadata": {
        "id": "i4n7ulS75WA4"
      },
      "source": [
        "#### **6-mashq**. Shu jarayonni HOSP_TYPE ustuni uchun ham amalga oshiring. \n",
        "*   G - General hospital (umumiy kasalxona) degani\n",
        "*   C - Special hospital (maxsus kasalxona) degani\n",
        "<br><b>O'zgarish quyidagicha bo'lsin:</b>\n",
        "*   G -> Umumiy \n",
        "*   C -> Maxsus\n"
      ]
    },
    {
      "cell_type": "code",
      "metadata": {
        "id": "BEokSEre43GK"
      },
      "source": [
        "# Javobni shuyerga yozing\n",
        "df['HOSP_TYPE']=df['HOSP_TYPE'].map({'G':'Umumiy', 'C':'Maxsus'})"
      ],
      "execution_count": 9,
      "outputs": []
    },
    {
      "cell_type": "markdown",
      "metadata": {
        "id": "4YozaezB4qqa"
      },
      "source": [
        "#### **7-mashq**. O'zgartirish amalga oshirilgach, HOSP_TYPE ustunida qancha Umumiy va qancha Maxsus kasalxonalar borligini ham aniqlang\n"
      ]
    },
    {
      "cell_type": "code",
      "metadata": {
        "id": "XNa8b4s25IUN",
        "outputId": "e8a24c6b-4b86-4f55-bad4-db3e34f2ee06",
        "colab": {
          "base_uri": "https://localhost:8080/"
        }
      },
      "source": [
        "# Javobni shuyerga yozing\n",
        "df['HOSP_TYPE'].value_counts()"
      ],
      "execution_count": 10,
      "outputs": [
        {
          "output_type": "execute_result",
          "data": {
            "text/plain": [
              "Maxsus    241139\n",
              "Umumiy     94255\n",
              "Name: HOSP_TYPE, dtype: int64"
            ]
          },
          "metadata": {},
          "execution_count": 10
        }
      ]
    },
    {
      "cell_type": "markdown",
      "metadata": {
        "id": "kEr2LYiJ_I-k"
      },
      "source": [
        "#### **8-mashq**. Datasetda qancha takrorlangan qatorlar borligini aniqlang  \n"
      ]
    },
    {
      "cell_type": "code",
      "metadata": {
        "id": "7EzWPhDZ_i5o",
        "outputId": "57cbafb4-3511-46f1-ee4c-2679745f46c8",
        "colab": {
          "base_uri": "https://localhost:8080/"
        }
      },
      "source": [
        "# Javobni shuyerga yozing\n",
        "sum(df.duplicated())"
      ],
      "execution_count": 11,
      "outputs": [
        {
          "output_type": "execute_result",
          "data": {
            "text/plain": [
              "30"
            ]
          },
          "metadata": {},
          "execution_count": 11
        }
      ]
    },
    {
      "cell_type": "markdown",
      "metadata": {
        "id": "6gphfgtd_nJK"
      },
      "source": [
        "#### **9-mashq**. Datasetda barcha takrorlangan qatorlarni o'chirib yuboring  \n"
      ]
    },
    {
      "cell_type": "code",
      "metadata": {
        "id": "DdsEuZXg_tEd"
      },
      "source": [
        "# Javobni shuyerga yozing\n",
        "df.drop_duplicates(inplace=True)"
      ],
      "execution_count": 12,
      "outputs": []
    },
    {
      "cell_type": "markdown",
      "metadata": {
        "id": "bN26F9LP_2RE"
      },
      "source": [
        "#### **10-mashq**. Datasetdan shifoxona turiga ko'ra (umumiy va maxsus), ClAIM_AMOUNTning o'rtacha qiymatlarini toping.\n"
      ]
    },
    {
      "cell_type": "code",
      "metadata": {
        "id": "t2NcocXLFI78",
        "outputId": "45b9907c-e1ca-419a-aad2-5fe9fe42054e",
        "colab": {
          "base_uri": "https://localhost:8080/"
        }
      },
      "source": [
        "# Javobni shuyerga yozing\n",
        "df.groupby('HOSP_TYPE').CLAIM_AMOUNT.mean()"
      ],
      "execution_count": 13,
      "outputs": [
        {
          "output_type": "execute_result",
          "data": {
            "text/plain": [
              "HOSP_TYPE\n",
              "Maxsus    30275.151848\n",
              "Umumiy    22683.770100\n",
              "Name: CLAIM_AMOUNT, dtype: float64"
            ]
          },
          "metadata": {},
          "execution_count": 13
        }
      ]
    },
    {
      "cell_type": "markdown",
      "metadata": {
        "id": "7QnvZvW6F3Su"
      },
      "source": [
        "#### **11-mashq**. Datasetdan shifoxona turiga ko'ra (umumiy va maxsus), ClAIM_AMOUNTning minimum qiymatlarini toping.\n"
      ]
    },
    {
      "cell_type": "code",
      "metadata": {
        "id": "5K42PI7tF0On",
        "outputId": "ddaa6d11-2b00-4453-d2e5-0672134a7894",
        "colab": {
          "base_uri": "https://localhost:8080/"
        }
      },
      "source": [
        "# Javobni shuyerga yozing\n",
        "df.groupby('HOSP_TYPE').CLAIM_AMOUNT.min()"
      ],
      "execution_count": 14,
      "outputs": [
        {
          "output_type": "execute_result",
          "data": {
            "text/plain": [
              "HOSP_TYPE\n",
              "Maxsus    2\n",
              "Umumiy    2\n",
              "Name: CLAIM_AMOUNT, dtype: int64"
            ]
          },
          "metadata": {},
          "execution_count": 14
        }
      ]
    },
    {
      "cell_type": "markdown",
      "metadata": {
        "id": "KQKllXlaF5D7"
      },
      "source": [
        "#### **12-mashq**. Datasetdan shifoxona turiga ko'ra (umumiy va maxsus), CLAIM_AMOUNTning maksimum qiymatlarini toping.\n"
      ]
    },
    {
      "cell_type": "code",
      "metadata": {
        "id": "7RNQVzsCF8-m",
        "outputId": "6aa43ff6-a09d-480b-bb99-8a8325df873b",
        "colab": {
          "base_uri": "https://localhost:8080/"
        }
      },
      "source": [
        "# Javobni shuyerga yozing\n",
        "df.groupby('HOSP_TYPE').CLAIM_AMOUNT.max()"
      ],
      "execution_count": 15,
      "outputs": [
        {
          "output_type": "execute_result",
          "data": {
            "text/plain": [
              "HOSP_TYPE\n",
              "Maxsus    520000\n",
              "Umumiy    520000\n",
              "Name: CLAIM_AMOUNT, dtype: int64"
            ]
          },
          "metadata": {},
          "execution_count": 15
        }
      ]
    },
    {
      "cell_type": "markdown",
      "metadata": {
        "id": "JhL3fPU4HJkK"
      },
      "source": [
        ".agg() yordamida istalgan funksiyalarni chaqirishimiz mumkin, misol uchun numpy dagi mean (o'rta qiymat) funiksiyasini ham qo'shamiz. Natijalarni faqat price ustuni uchun chiqaramiz:"
      ]
    },
    {
      "cell_type": "markdown",
      "metadata": {
        "id": "ZaAwTY8RHLBB"
      },
      "source": [
        "#### **13-mashq**. Datasetdan jinsiga ko'ra CLAIM_AMOUNTning min, max va o'rta qiymatlarni agg() usuli yordamida toping.\n",
        "\n"
      ]
    },
    {
      "cell_type": "code",
      "metadata": {
        "id": "-X_HduSGH00I",
        "outputId": "2dfbd27d-b600-4a7a-b2d7-fa7a096c9d13",
        "colab": {
          "base_uri": "https://localhost:8080/",
          "height": 144
        }
      },
      "source": [
        "# Javobni shuyerga yozing\n",
        "\n",
        "df.groupby('SEX').CLAIM_AMOUNT.agg([min,max,np.mean])"
      ],
      "execution_count": 16,
      "outputs": [
        {
          "output_type": "execute_result",
          "data": {
            "text/plain": [
              "     min     max          mean\n",
              "SEX                           \n",
              "0      2  520000  25960.356579\n",
              "1      2  520000  29586.732405"
            ],
            "text/html": [
              "\n",
              "  <div id=\"df-38e835c8-e3f6-458f-b0fc-bc65ad88b79c\">\n",
              "    <div class=\"colab-df-container\">\n",
              "      <div>\n",
              "<style scoped>\n",
              "    .dataframe tbody tr th:only-of-type {\n",
              "        vertical-align: middle;\n",
              "    }\n",
              "\n",
              "    .dataframe tbody tr th {\n",
              "        vertical-align: top;\n",
              "    }\n",
              "\n",
              "    .dataframe thead th {\n",
              "        text-align: right;\n",
              "    }\n",
              "</style>\n",
              "<table border=\"1\" class=\"dataframe\">\n",
              "  <thead>\n",
              "    <tr style=\"text-align: right;\">\n",
              "      <th></th>\n",
              "      <th>min</th>\n",
              "      <th>max</th>\n",
              "      <th>mean</th>\n",
              "    </tr>\n",
              "    <tr>\n",
              "      <th>SEX</th>\n",
              "      <th></th>\n",
              "      <th></th>\n",
              "      <th></th>\n",
              "    </tr>\n",
              "  </thead>\n",
              "  <tbody>\n",
              "    <tr>\n",
              "      <th>0</th>\n",
              "      <td>2</td>\n",
              "      <td>520000</td>\n",
              "      <td>25960.356579</td>\n",
              "    </tr>\n",
              "    <tr>\n",
              "      <th>1</th>\n",
              "      <td>2</td>\n",
              "      <td>520000</td>\n",
              "      <td>29586.732405</td>\n",
              "    </tr>\n",
              "  </tbody>\n",
              "</table>\n",
              "</div>\n",
              "      <button class=\"colab-df-convert\" onclick=\"convertToInteractive('df-38e835c8-e3f6-458f-b0fc-bc65ad88b79c')\"\n",
              "              title=\"Convert this dataframe to an interactive table.\"\n",
              "              style=\"display:none;\">\n",
              "        \n",
              "  <svg xmlns=\"http://www.w3.org/2000/svg\" height=\"24px\"viewBox=\"0 0 24 24\"\n",
              "       width=\"24px\">\n",
              "    <path d=\"M0 0h24v24H0V0z\" fill=\"none\"/>\n",
              "    <path d=\"M18.56 5.44l.94 2.06.94-2.06 2.06-.94-2.06-.94-.94-2.06-.94 2.06-2.06.94zm-11 1L8.5 8.5l.94-2.06 2.06-.94-2.06-.94L8.5 2.5l-.94 2.06-2.06.94zm10 10l.94 2.06.94-2.06 2.06-.94-2.06-.94-.94-2.06-.94 2.06-2.06.94z\"/><path d=\"M17.41 7.96l-1.37-1.37c-.4-.4-.92-.59-1.43-.59-.52 0-1.04.2-1.43.59L10.3 9.45l-7.72 7.72c-.78.78-.78 2.05 0 2.83L4 21.41c.39.39.9.59 1.41.59.51 0 1.02-.2 1.41-.59l7.78-7.78 2.81-2.81c.8-.78.8-2.07 0-2.86zM5.41 20L4 18.59l7.72-7.72 1.47 1.35L5.41 20z\"/>\n",
              "  </svg>\n",
              "      </button>\n",
              "      \n",
              "  <style>\n",
              "    .colab-df-container {\n",
              "      display:flex;\n",
              "      flex-wrap:wrap;\n",
              "      gap: 12px;\n",
              "    }\n",
              "\n",
              "    .colab-df-convert {\n",
              "      background-color: #E8F0FE;\n",
              "      border: none;\n",
              "      border-radius: 50%;\n",
              "      cursor: pointer;\n",
              "      display: none;\n",
              "      fill: #1967D2;\n",
              "      height: 32px;\n",
              "      padding: 0 0 0 0;\n",
              "      width: 32px;\n",
              "    }\n",
              "\n",
              "    .colab-df-convert:hover {\n",
              "      background-color: #E2EBFA;\n",
              "      box-shadow: 0px 1px 2px rgba(60, 64, 67, 0.3), 0px 1px 3px 1px rgba(60, 64, 67, 0.15);\n",
              "      fill: #174EA6;\n",
              "    }\n",
              "\n",
              "    [theme=dark] .colab-df-convert {\n",
              "      background-color: #3B4455;\n",
              "      fill: #D2E3FC;\n",
              "    }\n",
              "\n",
              "    [theme=dark] .colab-df-convert:hover {\n",
              "      background-color: #434B5C;\n",
              "      box-shadow: 0px 1px 3px 1px rgba(0, 0, 0, 0.15);\n",
              "      filter: drop-shadow(0px 1px 2px rgba(0, 0, 0, 0.3));\n",
              "      fill: #FFFFFF;\n",
              "    }\n",
              "  </style>\n",
              "\n",
              "      <script>\n",
              "        const buttonEl =\n",
              "          document.querySelector('#df-38e835c8-e3f6-458f-b0fc-bc65ad88b79c button.colab-df-convert');\n",
              "        buttonEl.style.display =\n",
              "          google.colab.kernel.accessAllowed ? 'block' : 'none';\n",
              "\n",
              "        async function convertToInteractive(key) {\n",
              "          const element = document.querySelector('#df-38e835c8-e3f6-458f-b0fc-bc65ad88b79c');\n",
              "          const dataTable =\n",
              "            await google.colab.kernel.invokeFunction('convertToInteractive',\n",
              "                                                     [key], {});\n",
              "          if (!dataTable) return;\n",
              "\n",
              "          const docLinkHtml = 'Like what you see? Visit the ' +\n",
              "            '<a target=\"_blank\" href=https://colab.research.google.com/notebooks/data_table.ipynb>data table notebook</a>'\n",
              "            + ' to learn more about interactive tables.';\n",
              "          element.innerHTML = '';\n",
              "          dataTable['output_type'] = 'display_data';\n",
              "          await google.colab.output.renderOutput(dataTable, element);\n",
              "          const docLink = document.createElement('div');\n",
              "          docLink.innerHTML = docLinkHtml;\n",
              "          element.appendChild(docLink);\n",
              "        }\n",
              "      </script>\n",
              "    </div>\n",
              "  </div>\n",
              "  "
            ]
          },
          "metadata": {},
          "execution_count": 16
        }
      ]
    }
  ]
}